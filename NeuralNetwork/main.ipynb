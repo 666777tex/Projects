{
 "cells": [
  {
   "cell_type": "code",
   "execution_count": 19,
   "id": "ea32882c",
   "metadata": {},
   "outputs": [],
   "source": [
    "import numpy as np"
   ]
  },
  {
   "cell_type": "code",
   "execution_count": 20,
   "id": "2052e0ee",
   "metadata": {},
   "outputs": [
    {
     "data": {
      "text/plain": [
       "'L = 3\\nn = [2, 3, 3, 1]\\n\\n# 2. Create weights and biases\\nW1 = np.random.randn(n[1], n[0])\\nW2 = np.random.randn(n[2], n[1])\\nW3 = np.random.randn(n[3], n[2])\\nb1 = np.random.randn(n[1], 1)\\nb2 = np.random.randn(n[2], 1)\\nb3 = np.random.randn(n[3], 1)'"
      ]
     },
     "execution_count": 20,
     "metadata": {},
     "output_type": "execute_result"
    }
   ],
   "source": [
    "# 1. Create network architecture\n",
    "\"\"\"L = 3\n",
    "n = [2, 3, 3, 1]\n",
    "\n",
    "# 2. Create weights and biases\n",
    "W1 = np.random.randn(n[1], n[0])\n",
    "W2 = np.random.randn(n[2], n[1])\n",
    "W3 = np.random.randn(n[3], n[2])\n",
    "b1 = np.random.randn(n[1], 1)\n",
    "b2 = np.random.randn(n[2], 1)\n",
    "b3 = np.random.randn(n[3], 1)\"\"\"\n"
   ]
  },
  {
   "cell_type": "code",
   "execution_count": 21,
   "id": "6011005e",
   "metadata": {},
   "outputs": [
    {
     "data": {
      "text/plain": [
       "3"
      ]
     },
     "execution_count": 21,
     "metadata": {},
     "output_type": "execute_result"
    }
   ],
   "source": [
    "# Creating a generalized network to work with any amount oflayer\n",
    "\n",
    "L = int(input(\"Layers: \"))\n",
    "L"
   ]
  },
  {
   "cell_type": "code",
   "execution_count": 22,
   "id": "4f49c190",
   "metadata": {},
   "outputs": [
    {
     "data": {
      "text/plain": [
       "[2, 3, 3, 1]"
      ]
     },
     "execution_count": 22,
     "metadata": {},
     "output_type": "execute_result"
    }
   ],
   "source": [
    "n = []\n",
    "n.append(int(input(\"Nodes in Input Layer:\")))\n",
    "for i in range(1, L):\n",
    "    n.append(int(input(\"Nodes in Hidden Layer\" + str(i) + \":\")))\n",
    "n.append(int(input(\"Nodes in Output Layer:\")))\n",
    "n"
   ]
  },
  {
   "cell_type": "code",
   "execution_count": 23,
   "id": "1a827687",
   "metadata": {},
   "outputs": [
    {
     "data": {
      "text/plain": [
       "{'W1': array([[-1.38208683, -0.90031173],\n",
       "        [ 0.23069583,  1.79946697],\n",
       "        [-0.67882912, -1.77158192]]),\n",
       " 'b1': array([[1.1593021 ],\n",
       "        [0.12810693],\n",
       "        [0.04350683]]),\n",
       " 'W2': array([[ 0.00291844, -1.77209267, -0.74427848],\n",
       "        [ 0.03408133,  0.33653681,  0.2635338 ],\n",
       "        [-0.24539035, -0.88807183, -0.83541486]]),\n",
       " 'b2': array([[ 0.29694283],\n",
       "        [-0.24622091],\n",
       "        [-0.49520217]]),\n",
       " 'W3': array([[ 1.76165247, -0.99516735, -0.58512442]]),\n",
       " 'b3': array([[1.09913964]])}"
      ]
     },
     "execution_count": 23,
     "metadata": {},
     "output_type": "execute_result"
    }
   ],
   "source": [
    "WBs = {}\n",
    "for i in range(1, L+1):\n",
    "    WBs[\"W\" + str(i)] = np.random.randn(int(n[i]), int(n[i-1]))\n",
    "    WBs[\"b\" + str(i)] = np.random.randn(int(n[i]), 1)\n",
    "\n",
    "WBs"
   ]
  },
  {
   "cell_type": "code",
   "execution_count": 96,
   "id": "3a252aad",
   "metadata": {},
   "outputs": [],
   "source": [
    "def standard_scale(X):\n",
    "    mean = np.mean(X, axis=0)\n",
    "    std = np.std(X, axis=0)\n",
    "    return (X - mean) / std\n",
    "def prepare_data():\n",
    "    X = np.array([\n",
    "        [150, 70],\n",
    "        [254, 73],\n",
    "        [312, 68],\n",
    "        [120, 60],\n",
    "        [154, 61],\n",
    "        [212, 65],\n",
    "        [216, 67],\n",
    "        [145, 67],\n",
    "        [184, 64],\n",
    "        [130, 69]\n",
    "    ])\n",
    "    X = standard_scale(X)\n",
    "    print(X)\n",
    "    y = np.array([0,1,1,0,0,1,1,0,1,0])\n",
    "    m = 10\n",
    "    A0 = X.T\n",
    "    Y = y.reshape(n[L], m)\n",
    "\n",
    "    return A0, Y, m"
   ]
  },
  {
   "cell_type": "code",
   "execution_count": 97,
   "id": "26750eb5",
   "metadata": {},
   "outputs": [
    {
     "name": "stdout",
     "output_type": "stream",
     "text": [
      "[[-0.65092849  0.94736842]\n",
      " [ 1.1447363   1.73684211]\n",
      " [ 2.14616475  0.42105263]\n",
      " [-1.16890872 -1.68421053]\n",
      " [-0.58186446 -1.42105263]\n",
      " [ 0.41956398 -0.36842105]\n",
      " [ 0.48862802  0.15789474]\n",
      " [-0.73725852  0.15789474]\n",
      " [-0.06388423 -0.63157895]\n",
      " [-0.99624864  0.68421053]]\n"
     ]
    }
   ],
   "source": [
    "A0, Y, m = prepare_data()"
   ]
  },
  {
   "cell_type": "code",
   "execution_count": 26,
   "id": "d7822a02",
   "metadata": {},
   "outputs": [],
   "source": [
    "# 4. Create activation function\n",
    "def sigmoid(arr):\n",
    "    return 1 / (1 + np.exp(-1 * arr))"
   ]
  },
  {
   "cell_type": "code",
   "execution_count": 27,
   "id": "ee1ca7e9",
   "metadata": {},
   "outputs": [
    {
     "data": {
      "text/plain": [
       "'def feed_forward(A0):\\n    # layer 1 calculation\\n    Z1 = W1 @ A0 + b1\\n    A1 = sigmoid(Z1)\\n    # layer 2 calculation\\n    Z2 = W2 @ A1 + b2\\n    A2 = sigmoid(Z2)\\n    # layer 3 calculation\\n    Z3 = W3 @ A2 + b3\\n    A3 = sigmoid(Z3)\\n\\n    cache = {\\n        \"A0\": A0,\\n        \"A1\": A1,\\n        \"A2\": A2\\n    }\\n\\n    y_hat = A3\\n\\n    return A3, cache'"
      ]
     },
     "execution_count": 27,
     "metadata": {},
     "output_type": "execute_result"
    }
   ],
   "source": [
    "# 5. Create feed forward process\n",
    "\"\"\"def feed_forward(A0):\n",
    "    # layer 1 calculation\n",
    "    Z1 = W1 @ A0 + b1\n",
    "    A1 = sigmoid(Z1)\n",
    "    # layer 2 calculation\n",
    "    Z2 = W2 @ A1 + b2\n",
    "    A2 = sigmoid(Z2)\n",
    "    # layer 3 calculation\n",
    "    Z3 = W3 @ A2 + b3\n",
    "    A3 = sigmoid(Z3)\n",
    "    \n",
    "    cache = {\n",
    "        \"A0\": A0,\n",
    "        \"A1\": A1,\n",
    "        \"A2\": A2\n",
    "    }\n",
    "\n",
    "    y_hat = A3\n",
    "    \n",
    "    return A3, cache\"\"\""
   ]
  },
  {
   "cell_type": "code",
   "execution_count": 28,
   "id": "298fa4c8",
   "metadata": {},
   "outputs": [],
   "source": [
    "ZAs = {}\n",
    "def feed_forward(A0):\n",
    "    ZAs[\"A0\"] = A0\n",
    "    for i in range(1, L+1):\n",
    "        ZAs[\"Z\" + str(i)] = WBs[\"W\" + str(i)] @ ZAs[\"A\" + str(i-1)] + WBs[\"b\" + str(i)] \n",
    "        ZAs[\"A\" + str(i)] = sigmoid(ZAs[\"Z\" + str(i)])\n",
    "\n",
    "    y_hat = ZAs[\"A\" + str(L)]\n",
    "    \n",
    "    return y_hat, ZAs"
   ]
  },
  {
   "cell_type": "code",
   "execution_count": 29,
   "id": "43b98982",
   "metadata": {},
   "outputs": [
    {
     "data": {
      "text/plain": [
       "(array([[0.6877765, 0.6877765, 0.6877765, 0.6877765, 0.6877765, 0.6877765,\n",
       "         0.6877765, 0.6877765, 0.6877765, 0.6877765]]),\n",
       " {'A0': array([[150, 254, 312, 120, 154, 212, 216, 145, 184, 130],\n",
       "         [ 70,  73,  68,  60,  61,  65,  67,  67,  64,  69]]),\n",
       "  'Z1': array([[-269.17554358, -415.61350936, -491.27298703, -218.70982134,\n",
       "          -266.60108538, -350.36336858, -357.69233936, -259.56417424,\n",
       "          -310.76462554, -240.6334952 ],\n",
       "         [ 160.6951697 ,  190.08593696,  194.46896024,  135.77962504,\n",
       "           145.42275025,  166.0009763 ,  170.52269357,  154.14328962,\n",
       "           157.74202608,  154.28178612],\n",
       "         [-225.79159572, -301.70457009, -332.21874952, -187.71090289,\n",
       "          -212.56267493, -259.02109164, -265.27957196, -217.08270435,\n",
       "          -238.24229432, -210.44343137]]),\n",
       "  'A1': array([[1.25471983e-117, 3.17209570e-181, 4.39392486e-214,\n",
       "          1.03640966e-095, 1.64671996e-116, 6.90434309e-153,\n",
       "          4.53096592e-156, 1.87374906e-113, 1.08802270e-135,\n",
       "          3.12033250e-105],\n",
       "         [1.00000000e+000, 1.00000000e+000, 1.00000000e+000,\n",
       "          1.00000000e+000, 1.00000000e+000, 1.00000000e+000,\n",
       "          1.00000000e+000, 1.00000000e+000, 1.00000000e+000,\n",
       "          1.00000000e+000],\n",
       "         [8.70875194e-099, 9.36203040e-132, 5.23878166e-145,\n",
       "          3.00739646e-082, 4.84398981e-093, 3.22529323e-113,\n",
       "          6.17370304e-116, 5.27447676e-095, 3.40946487e-104,\n",
       "          4.03254296e-092]]),\n",
       "  'Z2': array([[-1.47514984, -1.47514984, -1.47514984, -1.47514984, -1.47514984,\n",
       "          -1.47514984, -1.47514984, -1.47514984, -1.47514984, -1.47514984],\n",
       "         [ 0.0903159 ,  0.0903159 ,  0.0903159 ,  0.0903159 ,  0.0903159 ,\n",
       "           0.0903159 ,  0.0903159 ,  0.0903159 ,  0.0903159 ,  0.0903159 ],\n",
       "         [-1.383274  , -1.383274  , -1.383274  , -1.383274  , -1.383274  ,\n",
       "          -1.383274  , -1.383274  , -1.383274  , -1.383274  , -1.383274  ]]),\n",
       "  'A2': array([[0.18616113, 0.18616113, 0.18616113, 0.18616113, 0.18616113,\n",
       "          0.18616113, 0.18616113, 0.18616113, 0.18616113, 0.18616113],\n",
       "         [0.52256364, 0.52256364, 0.52256364, 0.52256364, 0.52256364,\n",
       "          0.52256364, 0.52256364, 0.52256364, 0.52256364, 0.52256364],\n",
       "         [0.2004837 , 0.2004837 , 0.2004837 , 0.2004837 , 0.2004837 ,\n",
       "          0.2004837 , 0.2004837 , 0.2004837 , 0.2004837 , 0.2004837 ]]),\n",
       "  'Z3': array([[0.78974467, 0.78974467, 0.78974467, 0.78974467, 0.78974467,\n",
       "          0.78974467, 0.78974467, 0.78974467, 0.78974467, 0.78974467]]),\n",
       "  'A3': array([[0.6877765, 0.6877765, 0.6877765, 0.6877765, 0.6877765, 0.6877765,\n",
       "          0.6877765, 0.6877765, 0.6877765, 0.6877765]])})"
      ]
     },
     "execution_count": 29,
     "metadata": {},
     "output_type": "execute_result"
    }
   ],
   "source": [
    "feed_forward(A0)"
   ]
  },
  {
   "cell_type": "code",
   "execution_count": 30,
   "id": "e269526f",
   "metadata": {},
   "outputs": [],
   "source": [
    "def cost(y_hat, y):\n",
    "  \"\"\"\n",
    "  y_hat should be a n^L x m matrix\n",
    "  y should be a n^L x m matrix\n",
    "  \"\"\"\n",
    "  # 1. losses is a n^L x m\n",
    "  losses = - ( (y * np.log(y_hat)) + (1 - y)*np.log(1 - y_hat) )\n",
    "\n",
    "  m = y_hat.reshape(-1).shape[0]\n",
    "\n",
    "  # 2. summing across axis = 1 means we sum across rows, \n",
    "  #   making this a n^L x 1 matrix\n",
    "  summed_losses = (1 / m) * np.sum(losses, axis=1)\n",
    "\n",
    "  # 3. unnecessary, but useful if working with more than one node\n",
    "  #   in output layer\n",
    "  return np.sum(summed_losses)"
   ]
  },
  {
   "cell_type": "code",
   "execution_count": 31,
   "id": "7ff897e4",
   "metadata": {},
   "outputs": [
    {
     "data": {
      "text/plain": [
       "'def backprop_layer_3(y_hat, Y, m, A2, W3):\\n    A3 = y_hat\\n\\n    # step 1. calculate dC/dZ3 \\n    dC_dZ3 = (1/m) * (A3 - Y)\\n    assert dC_dZ3.shape == (n[3], m)\\n\\n    # step 2. calculate dC/dW3 = dC/dZ3 * dZ3/dW3\\n    dZ3_dW3 = A2\\n    assert dZ3_dW3.shape == (n[2], m)\\n\\n    dC_dW3 = dC_dZ3 @ dZ3_dW3.T\\n    assert dC_dW3.shape == (n[3], n[2])\\n\\n    # step 3. calculate dC/db3 = np.sum(dC/dZ3, axis=1, keepdism=True)\\n    dC_db3 = np.sum(dC_dZ3, axis=1, keepdims=True)\\n    assert dC_db3.shape == (n[3], 1)\\n\\n    # step 4. calculate propagator dC/dA2 = dC/dZ3 * dZ3/dA2\\n    dZ3_dA2 = W3\\n    dC_dA2 = W3.T @ dC_dZ3\\n    assert dC_dA2.shape == (n[2], m)\\n\\n    return dC_dW3, dC_db3, dC_dA2'"
      ]
     },
     "execution_count": 31,
     "metadata": {},
     "output_type": "execute_result"
    }
   ],
   "source": [
    "\"\"\"def backprop_layer_3(y_hat, Y, m, A2, W3):\n",
    "    A3 = y_hat\n",
    "\n",
    "    # step 1. calculate dC/dZ3 \n",
    "    dC_dZ3 = (1/m) * (A3 - Y)\n",
    "    assert dC_dZ3.shape == (n[3], m)\n",
    "\n",
    "    # step 2. calculate dC/dW3 = dC/dZ3 * dZ3/dW3\n",
    "    dZ3_dW3 = A2\n",
    "    assert dZ3_dW3.shape == (n[2], m)\n",
    "\n",
    "    dC_dW3 = dC_dZ3 @ dZ3_dW3.T\n",
    "    assert dC_dW3.shape == (n[3], n[2])\n",
    "\n",
    "    # step 3. calculate dC/db3 = np.sum(dC/dZ3, axis=1, keepdism=True)\n",
    "    dC_db3 = np.sum(dC_dZ3, axis=1, keepdims=True)\n",
    "    assert dC_db3.shape == (n[3], 1)\n",
    "\n",
    "    # step 4. calculate propagator dC/dA2 = dC/dZ3 * dZ3/dA2\n",
    "    dZ3_dA2 = W3\n",
    "    dC_dA2 = W3.T @ dC_dZ3\n",
    "    assert dC_dA2.shape == (n[2], m)\n",
    "\n",
    "    return dC_dW3, dC_db3, dC_dA2\"\"\""
   ]
  },
  {
   "cell_type": "code",
   "execution_count": 32,
   "id": "59c8ef82",
   "metadata": {},
   "outputs": [
    {
     "data": {
      "text/plain": [
       "\"def backprop_layer_2(prop_dC_dA2, A2, A1, W2):\\n    # step 1. calculate dC/dZ2 = dC/dA2 * dA2/dZ2\\n\\n    # use sigmoid derivation to arrive at this answer:\\n    #   sigmoid'(z) = sigmoid(z) * (1 - sigmoid(z))\\n    #     and if a = sigmoid(z), then sigmoid'(z) = a * (1 - a)\\n    dA2_dZ2 = A2 * (1 - A2)\\n    dC_dZ2 = prop_dC_dA2 * dA2_dZ2\\n    assert dC_dZ2.shape == (n[2], m)\\n    # step 2. calculate dC/dW2 = dC/dZ2 * dZ2/dW2 \\n    dZ2_dW2 = A1\\n    assert dZ2_dW2.shape == (n[1], m)\\n\\n    dC_dW2 = dC_dZ2 @ dZ2_dW2.T\\n    assert dC_dW2.shape == (n[2], n[1])\\n\\n    # step 3. calculate dC/db2 = np.sum(dC/dZ2, axis=1, keepdims=True)\\n    dC_db2 = np.sum(dC_dW2, axis=1, keepdims=True)\\n    assert dC_db2.shape == (n[2], 1)\\n\\n    # step 4. calculate propagator dC/dA1 = dC/dZ2 * dZ2/dA1\\n    dZ2_dA1 = W2\\n    dC_dA1 = W2.T @ dC_dZ2\\n    assert dC_dA1.shape == (n[2], m)\\n\\n    return dC_dW2, dC_db2, dC_dA1\""
      ]
     },
     "execution_count": 32,
     "metadata": {},
     "output_type": "execute_result"
    }
   ],
   "source": [
    "\"\"\"def backprop_layer_2(prop_dC_dA2, A2, A1, W2):\n",
    "    # step 1. calculate dC/dZ2 = dC/dA2 * dA2/dZ2\n",
    "    \n",
    "    # use sigmoid derivation to arrive at this answer:\n",
    "    #   sigmoid'(z) = sigmoid(z) * (1 - sigmoid(z))\n",
    "    #     and if a = sigmoid(z), then sigmoid'(z) = a * (1 - a)\n",
    "    dA2_dZ2 = A2 * (1 - A2)\n",
    "    dC_dZ2 = prop_dC_dA2 * dA2_dZ2\n",
    "    assert dC_dZ2.shape == (n[2], m)\n",
    "    # step 2. calculate dC/dW2 = dC/dZ2 * dZ2/dW2 \n",
    "    dZ2_dW2 = A1\n",
    "    assert dZ2_dW2.shape == (n[1], m)\n",
    "\n",
    "    dC_dW2 = dC_dZ2 @ dZ2_dW2.T\n",
    "    assert dC_dW2.shape == (n[2], n[1])\n",
    "\n",
    "    # step 3. calculate dC/db2 = np.sum(dC/dZ2, axis=1, keepdims=True)\n",
    "    dC_db2 = np.sum(dC_dW2, axis=1, keepdims=True)\n",
    "    assert dC_db2.shape == (n[2], 1)\n",
    "\n",
    "    # step 4. calculate propagator dC/dA1 = dC/dZ2 * dZ2/dA1\n",
    "    dZ2_dA1 = W2\n",
    "    dC_dA1 = W2.T @ dC_dZ2\n",
    "    assert dC_dA1.shape == (n[2], m)\n",
    "\n",
    "    return dC_dW2, dC_db2, dC_dA1\"\"\""
   ]
  },
  {
   "cell_type": "code",
   "execution_count": 33,
   "id": "61fb2071",
   "metadata": {},
   "outputs": [
    {
     "data": {
      "text/plain": [
       "\"def backprop_layer_1(prop_dC_dA1, A1, A0, W1):\\n    # step 1. calculate dC/dZ1 = dC/dA1 * dA1/dZ1\\n    # use sigmoid derivation to arrive at this answer:\\n    #   sigmoid'(z) = sigmoid(z) * (1 - sigmoid(z))\\n    #     and if a = sigmoid(z), then sigmoid'(z) = a * (1 - a)\\n    dA1_dZ1 = A1 * (1 - A1)\\n    dC_dZ1 = prop_dC_dA1 * dA1_dZ1\\n    assert dC_dZ1.shape == (n[1], m)\\n\\n    # step 2. calculate dC/dW1 = dC/dZ1 * dZ1/dW1\\n    dZ1_dW1 = A0\\n    assert dZ1_dW1.shape == (n[0], m)\\n\\n    dC_dW1 = dC_dZ1 @ dZ1_dW1.T\\n    assert dC_dW1.shape == (n[1], n[0])\\n\\n    # step 3. calculate dC/db1 = np.sum(dC/dZ1, axis=1, keepdims=True)\\n    dC_db1 = np.sum(dC_dZ1, axis=1, keepdims=True)\\n    assert dC_db1.shape == (n[1], 1)\\n\\n    return dC_dW1, dC_db1\""
      ]
     },
     "execution_count": 33,
     "metadata": {},
     "output_type": "execute_result"
    }
   ],
   "source": [
    "\"\"\"def backprop_layer_1(prop_dC_dA1, A1, A0, W1):\n",
    "    # step 1. calculate dC/dZ1 = dC/dA1 * dA1/dZ1\n",
    "    # use sigmoid derivation to arrive at this answer:\n",
    "    #   sigmoid'(z) = sigmoid(z) * (1 - sigmoid(z))\n",
    "    #     and if a = sigmoid(z), then sigmoid'(z) = a * (1 - a)\n",
    "    dA1_dZ1 = A1 * (1 - A1)\n",
    "    dC_dZ1 = prop_dC_dA1 * dA1_dZ1\n",
    "    assert dC_dZ1.shape == (n[1], m)\n",
    "\n",
    "    # step 2. calculate dC/dW1 = dC/dZ1 * dZ1/dW1\n",
    "    dZ1_dW1 = A0\n",
    "    assert dZ1_dW1.shape == (n[0], m)\n",
    "\n",
    "    dC_dW1 = dC_dZ1 @ dZ1_dW1.T\n",
    "    assert dC_dW1.shape == (n[1], n[0])\n",
    "\n",
    "    # step 3. calculate dC/db1 = np.sum(dC/dZ1, axis=1, keepdims=True)\n",
    "    dC_db1 = np.sum(dC_dZ1, axis=1, keepdims=True)\n",
    "    assert dC_db1.shape == (n[1], 1)\n",
    "\n",
    "    return dC_dW1, dC_db1\"\"\""
   ]
  },
  {
   "cell_type": "code",
   "execution_count": null,
   "id": "adcf345b",
   "metadata": {},
   "outputs": [],
   "source": [
    "def backprop_layer_output(y_hat, Y, m, AL_, WL, L = L):\n",
    "    AL = y_hat\n",
    "\n",
    "    # step 1. calculate dC/dZL\n",
    "    dC_dZL = (1/m) * (AL - Y)\n",
    "    assert dC_dZL.shape == (n[L], m)\n",
    "\n",
    "    # step 2. calculate dC/dWL = dC/dZL * dZL/dWL\n",
    "    dZL_dWL = AL_\n",
    "    assert dZL_dWL.shape == (n[L-1], m)\n",
    "\n",
    "    dC_dWL = dC_dZL @ dZL_dWL.T\n",
    "    assert dC_dWL.shape == (n[L], n[L-1])\n",
    "\n",
    "    # step 3. calculate dC/dbL = np.sum(dC/dZL, axis=1, keepdism=True)\n",
    "    dC_dbL = np.sum(dC_dZL, axis=1, keepdims=True)\n",
    "    assert dC_dbL.shape == (n[L], 1)\n",
    "\n",
    "    # step 4. calculate propagator dC/dAL_ = dC/dZL * dZ3/dAL_\n",
    "    dZ3_dAL_ = WL\n",
    "    dC_dAL_ = WL.T @ dC_dZL\n",
    "    assert dC_dAL_.shape == (n[L-1], m)\n",
    "\n",
    "    return dC_dWL, dC_dbL, dC_dAL_"
   ]
  },
  {
   "cell_type": "code",
   "execution_count": 35,
   "id": "3b3a367f",
   "metadata": {},
   "outputs": [],
   "source": [
    "def backprop_hidden_layers(prop, AL, AL_, WL, L, m):\n",
    "    dAL_dZL = AL * (1 - AL)\n",
    "    dC_dZL = prop * dAL_dZL\n",
    "    assert dC_dZL.shape == (n[L], m)\n",
    "\n",
    "    dZL_dWL = AL_\n",
    "    assert dZL_dWL.shape == (n[L-1], m)\n",
    "\n",
    "    dC_dWL = dC_dZL @ dZL_dWL.T\n",
    "    assert dC_dWL.shape == (n[L], n[L-1])\n",
    "\n",
    "    dC_dbL = np.sum(dC_dWL, axis=1, keepdims=True)\n",
    "    assert dC_dbL.shape == (n[L], 1)\n",
    "\n",
    "    if L > 1:\n",
    "        dZL_dAL_ = WL\n",
    "        dC_dAL_ = WL.T @ dC_dZL\n",
    "        assert dC_dAL_.shape == (n[L], m)\n",
    "        return dC_dWL, dC_dbL, dC_dAL_\n",
    "    \n",
    "    return dC_dWL, dC_dbL"
   ]
  },
  {
   "cell_type": "code",
   "execution_count": 74,
   "id": "d088b7fc",
   "metadata": {},
   "outputs": [],
   "source": [
    "def train():\n",
    "    global W3, W2, W1, b1, b2, b3\n",
    "\n",
    "    epochs = 1000\n",
    "    alpha = 0.1\n",
    "    costs = []\n",
    "\n",
    "    for e in range(epochs):\n",
    "        # 1. feed forward\n",
    "        y_hat, ZAs = feed_forward(A0)\n",
    "\n",
    "        # 2. cost calculation\n",
    "        error = cost(y_hat, Y)\n",
    "        costs.append(error)\n",
    "        \n",
    "        # 3. backprop calculations\n",
    "        \"\"\"dC_dW3, dC_db3, dC_dA2 = backprop_layer_3(y_hat, Y, m, A2 = cache[\"A2\"], W3 = W3)\n",
    "\n",
    "        dC_dW2, dC_db2, dC_dA1 = backprop_layer_2(dC_dA2, A2 = cache[\"A2\"], A1 = cache[\"A1\"], W2 = W2)\n",
    "\n",
    "        dC_dW1, dC_db1 = backprop_layer_1(dC_dA1, A1 = cache[\"A1\"], A0 = cache[\"A0\"], W1 = W1)\"\"\"\n",
    "\n",
    "        layer = L\n",
    "        partial = {}\n",
    "        #output layer calculation\n",
    "        dW, db, dA = backprop_layer_output(\n",
    "            y_hat, Y, m, AL_ = ZAs[\"A\" + str(layer-1)], WL = WBs[\"W\"+str(layer)], L = layer)\n",
    "        partial[\"dC_dW\" + str(layer)] = dW \n",
    "        partial[\"dC_db\"+str(layer)] = db\n",
    "        partial[\"dC_dA\" + str(layer-1)] = dA\n",
    "        #updating weight and bias for output layer \n",
    "        WBs[\"W\"+str(layer)] = WBs[\"W\"+str(layer)] - (alpha * partial[\"dC_dW\" +str(layer)])\n",
    "        WBs[\"b\" +str(layer)] = WBs[\"b\" +str(layer)] - (alpha * partial[\"dC_db\" +str(layer)])\n",
    "        layer -= 1\n",
    "\n",
    "        # other hidden layer calculation and updating weights and biases\n",
    "        while layer > 1:\n",
    "            dW, db, dA = backprop_hidden_layers(\n",
    "                partial[\"dC_dA\" + str(layer)], AL = ZAs[\"A\"+str(layer)], AL_ = ZAs[\"A\" + str(layer - 1)], WL = WBs[\"W\" + str(layer)], L =layer, m = m)\n",
    "            partial[\"dC_dW\" + str(layer)] = dW \n",
    "            partial[\"dC_db\"+str(layer)] = db\n",
    "            partial[\"dC_dA\" + str(layer-1)] = dA\n",
    "            WBs[\"W\"+ str(layer)] = WBs[\"W\"+ str(layer)] - (alpha * partial[\"dC_dW\" + str(layer)])\n",
    "            WBs[\"b\" +str(layer)] = WBs[\"b\" +str(layer)] - (alpha * partial[\"dC_db\" +str(layer)])\n",
    "            layer -= 1\n",
    "\n",
    "        # last prop layer (first hidden layer)\n",
    "        dW, db = backprop_hidden_layers(\n",
    "                partial[\"dC_dA\" + str(layer)], AL = ZAs[\"A\"+str(layer)], AL_ = ZAs[\"A\" + str(layer - 1)], WL = WBs[\"W\" + str(layer)], L =layer, m = m)\n",
    "        partial[\"dC_dW\" + str(layer)] = dW \n",
    "        partial[\"dC_db\"+str(layer)] = db\n",
    "        WBs[\"W\"+ str(layer)] = WBs[\"W\"+ str(layer)] - (alpha * partial[\"dC_dW\" + str(layer)])\n",
    "        WBs[\"b\" +str(layer)] = WBs[\"b\" +str(layer)] - (alpha * partial[\"dC_db\" +str(layer)])\n",
    "\n",
    "        # 4. Update Weights\n",
    "        \"\"\"W3 = W3 - (alpha * dC_dW3)\n",
    "        W2 = W2 - (alpha * dC_dW2)\n",
    "        W1 = W1 - (alpha * dC_dW1)\n",
    "        b3 = b3 - (alpha * dC_db3)\n",
    "        b2 = b2 - (alpha * dC_db2)\n",
    "        b1 = b1 - (alpha * dC_db1)\"\"\"\n",
    "\n",
    "        if e % 20 == 0:\n",
    "            print(f\"epoch {e}: cost = {error:4f}\")\n",
    "\n",
    "        return costs"
   ]
  },
  {
   "cell_type": "code",
   "execution_count": 91,
   "id": "8b1a2856",
   "metadata": {},
   "outputs": [
    {
     "name": "stdout",
     "output_type": "stream",
     "text": [
      "epoch 0: cost = 0.695834\n"
     ]
    },
    {
     "name": "stderr",
     "output_type": "stream",
     "text": [
      "C:\\Users\\zhang\\AppData\\Local\\Temp\\ipykernel_23468\\4005129870.py:3: RuntimeWarning: overflow encountered in exp\n",
      "  return 1 / (1 + np.exp(-1 * arr))\n"
     ]
    }
   ],
   "source": [
    "costs = train()"
   ]
  }
 ],
 "metadata": {
  "kernelspec": {
   "display_name": ".venv",
   "language": "python",
   "name": "python3"
  },
  "language_info": {
   "codemirror_mode": {
    "name": "ipython",
    "version": 3
   },
   "file_extension": ".py",
   "mimetype": "text/x-python",
   "name": "python",
   "nbconvert_exporter": "python",
   "pygments_lexer": "ipython3",
   "version": "3.12.10"
  }
 },
 "nbformat": 4,
 "nbformat_minor": 5
}
